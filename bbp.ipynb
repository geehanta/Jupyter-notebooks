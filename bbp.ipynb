{
 "cells": [
  {
   "cell_type": "code",
   "execution_count": 3,
   "id": "0d5c8946",
   "metadata": {},
   "outputs": [],
   "source": [
    "import pandas as pd\n",
    "import numpy as np"
   ]
  },
  {
   "cell_type": "code",
   "execution_count": 5,
   "id": "e407c62a",
   "metadata": {},
   "outputs": [],
   "source": [
    "data = pd.read_csv(\"bbp.csv\")"
   ]
  },
  {
   "cell_type": "code",
   "execution_count": 7,
   "id": "1176155b",
   "metadata": {
    "scrolled": true
   },
   "outputs": [],
   "source": [
    "#shuffling my bbp symptoms data since its in orderly rows\n",
    "bbp_shuffled = data.sample(frac=1, random_state=42)"
   ]
  },
  {
   "cell_type": "code",
   "execution_count": 10,
   "id": "3ab77d89",
   "metadata": {},
   "outputs": [],
   "source": [
    "# Export shuffled data to CSV\n",
    "bbp_shuffled.to_csv('shuffled_data.csv', index=False)"
   ]
  },
  {
   "cell_type": "code",
   "execution_count": 11,
   "id": "a13f7784",
   "metadata": {},
   "outputs": [
    {
     "name": "stdout",
     "output_type": "stream",
     "text": [
      "      Chills  Cough  Difficulty_breathing  Sputum_production  Sore_throat  \\\n",
      "325        1      1                     0                  0            0   \n",
      "2226       0      1                     0                  0            0   \n",
      "2480       0      1                     0                  0            0   \n",
      "1862       0      0                     0                  0            0   \n",
      "299        1      0                     0                  0            0   \n",
      "1637       1      0                     0                  0            0   \n",
      "2374       0      0                     0                  0            0   \n",
      "3355       0      1                     0                  0            0   \n",
      "139        1      1                     0                  0            0   \n",
      "1456       1      1                     1                  0            0   \n",
      "\n",
      "      Headache  Runny_nose  Eye_pain  Seizures  Tick_bites  ...  Diarrhoea  \\\n",
      "325          0           1         0         0           0  ...          0   \n",
      "2226         0           1         0         0           0  ...          0   \n",
      "2480         0           1         0         0           0  ...          0   \n",
      "1862         0           0         0         0           0  ...          0   \n",
      "299          0           1         0         0           0  ...          0   \n",
      "1637         1           0         0         0           0  ...          0   \n",
      "2374         1           0         1         0           0  ...          1   \n",
      "3355         0           1         0         0           0  ...          0   \n",
      "139          1           1         0         0           0  ...          0   \n",
      "1456         0           1         0         0           0  ...          0   \n",
      "\n",
      "      Blood_in_stool  Bleeding  Bruising  Rash  Joint_aches  Muscle_aches  \\\n",
      "325                0         0         0     0            1             1   \n",
      "2226               0         0         0     1            0             0   \n",
      "2480               0         0         0     1            0             0   \n",
      "1862               0         0         0     0            0             1   \n",
      "299                0         0         0     0            0             0   \n",
      "1637               0         0         0     0            1             0   \n",
      "2374               0         0         0     0            1             1   \n",
      "3355               0         0         0     0            0             0   \n",
      "139                0         0         0     0            1             1   \n",
      "1456               0         0         0     0            0             0   \n",
      "\n",
      "      Dark_urine  Jaundice      Pathogen  \n",
      "325            0         0       Malaria  \n",
      "2226           0         0        Dengue  \n",
      "2480           0         0        Dengue  \n",
      "1862           0         0    Rickettsia  \n",
      "299            0         0       Malaria  \n",
      "1637           0         0    Rickettsia  \n",
      "2374           0         0        Dengue  \n",
      "3355           0         0       Q Fever  \n",
      "139            0         0       Malaria  \n",
      "1456           0         0  B Burgdoferi  \n",
      "\n",
      "[10 rows x 22 columns]\n"
     ]
    }
   ],
   "source": [
    "#Show first few rows of data\n",
    "print(bbp_shuffled.head(10))"
   ]
  },
  {
   "cell_type": "code",
   "execution_count": 12,
   "id": "64299517",
   "metadata": {},
   "outputs": [],
   "source": [
    "pd.set_option('display.max_columns', None)"
   ]
  },
  {
   "cell_type": "code",
   "execution_count": 13,
   "id": "ed371a87",
   "metadata": {},
   "outputs": [
    {
     "name": "stdout",
     "output_type": "stream",
     "text": [
      "      Chills  Cough  Difficulty_breathing  Sputum_production  Sore_throat  \\\n",
      "325        1      1                     0                  0            0   \n",
      "2226       0      1                     0                  0            0   \n",
      "2480       0      1                     0                  0            0   \n",
      "1862       0      0                     0                  0            0   \n",
      "299        1      0                     0                  0            0   \n",
      "...      ...    ...                   ...                ...          ...   \n",
      "1130       1      0                     0                  0            0   \n",
      "1294       0      1                     0                  0            0   \n",
      "860        1      1                     0                  0            0   \n",
      "3507       0      1                     0                  0            0   \n",
      "3174       1      1                     0                  0            0   \n",
      "\n",
      "      Headache  Runny_nose  Eye_pain  Seizures  Tick_bites  Abdominal_pain  \\\n",
      "325          0           1         0         0           0               0   \n",
      "2226         0           1         0         0           0               0   \n",
      "2480         0           1         0         0           0               0   \n",
      "1862         0           0         0         0           0               1   \n",
      "299          0           1         0         0           0               0   \n",
      "...        ...         ...       ...       ...         ...             ...   \n",
      "1130         1           0         0         0           0               1   \n",
      "1294         1           1         0         0           0               0   \n",
      "860          1           0         1         0           0               1   \n",
      "3507         0           1         0         0           0               0   \n",
      "3174         0           1         0         0           0               0   \n",
      "\n",
      "      Vomiting  Diarrhoea  Blood_in_stool  Bleeding  Bruising  Rash  \\\n",
      "325          0          0               0         0         0     0   \n",
      "2226         0          0               0         0         0     1   \n",
      "2480         0          0               0         0         0     1   \n",
      "1862         1          0               0         0         0     0   \n",
      "299          0          0               0         0         0     0   \n",
      "...        ...        ...             ...       ...       ...   ...   \n",
      "1130         0          0               0         0         0     0   \n",
      "1294         0          0               0         0         0     0   \n",
      "860          0          0               0         0         0     0   \n",
      "3507         0          0               0         0         0     0   \n",
      "3174         0          0               0         0         0     0   \n",
      "\n",
      "      Joint_aches  Muscle_aches  Dark_urine  Jaundice           Pathogen  \n",
      "325             1             1           0         0            Malaria  \n",
      "2226            0             0           0         0             Dengue  \n",
      "2480            0             0           0         0             Dengue  \n",
      "1862            0             1           0         0         Rickettsia  \n",
      "299             0             0           0         0            Malaria  \n",
      "...           ...           ...         ...       ...                ...  \n",
      "1130            1             0           0         0         Salmonella  \n",
      "1294            1             0           0         0  A Phagocytophilum  \n",
      "860             1             1           0         0         Leptospira  \n",
      "3507            0             0           0         0            Q Fever  \n",
      "3174            0             0           0         0                EBV  \n",
      "\n",
      "[3534 rows x 22 columns]\n"
     ]
    }
   ],
   "source": [
    "print(bbp_shuffled)"
   ]
  },
  {
   "cell_type": "code",
   "execution_count": 14,
   "id": "5e2ab759",
   "metadata": {},
   "outputs": [],
   "source": [
    "X = bbp_shuffled.drop('Pathogen',axis=1).values"
   ]
  },
  {
   "cell_type": "code",
   "execution_count": 15,
   "id": "7b836137",
   "metadata": {},
   "outputs": [],
   "source": [
    "y = bbp_shuffled['Pathogen'].values\n"
   ]
  },
  {
   "cell_type": "code",
   "execution_count": 17,
   "id": "bf8e7e2a",
   "metadata": {},
   "outputs": [
    {
     "data": {
      "text/plain": [
       "(3534, 21)"
      ]
     },
     "execution_count": 17,
     "metadata": {},
     "output_type": "execute_result"
    }
   ],
   "source": [
    "X.shape"
   ]
  },
  {
   "cell_type": "code",
   "execution_count": 18,
   "id": "4e74b7d3",
   "metadata": {},
   "outputs": [
    {
     "data": {
      "text/plain": [
       "(3534,)"
      ]
     },
     "execution_count": 18,
     "metadata": {},
     "output_type": "execute_result"
    }
   ],
   "source": [
    "y.shape"
   ]
  },
  {
   "cell_type": "code",
   "execution_count": 1,
   "id": "bb80981c",
   "metadata": {},
   "outputs": [
    {
     "ename": "ImportError",
     "evalue": "cannot import name 'kNeighborsClassifier' from 'sklearn.neighbors' (C:\\Users\\BSL-USAMRUK\\anaconda3\\lib\\site-packages\\sklearn\\neighbors\\__init__.py)",
     "output_type": "error",
     "traceback": [
      "\u001b[1;31m---------------------------------------------------------------------------\u001b[0m",
      "\u001b[1;31mImportError\u001b[0m                               Traceback (most recent call last)",
      "\u001b[1;32m~\\AppData\\Local\\Temp\\ipykernel_22568\\1992124035.py\u001b[0m in \u001b[0;36m<module>\u001b[1;34m\u001b[0m\n\u001b[1;32m----> 1\u001b[1;33m \u001b[1;32mfrom\u001b[0m \u001b[0msklearn\u001b[0m\u001b[1;33m.\u001b[0m\u001b[0mneighbors\u001b[0m \u001b[1;32mimport\u001b[0m \u001b[0mkNeighborsClassifier\u001b[0m\u001b[1;33m\u001b[0m\u001b[1;33m\u001b[0m\u001b[0m\n\u001b[0m",
      "\u001b[1;31mImportError\u001b[0m: cannot import name 'kNeighborsClassifier' from 'sklearn.neighbors' (C:\\Users\\BSL-USAMRUK\\anaconda3\\lib\\site-packages\\sklearn\\neighbors\\__init__.py)"
     ]
    }
   ],
   "source": [
    "from sklearn.neighbors import kNeighborsClassifier"
   ]
  },
  {
   "cell_type": "code",
   "execution_count": null,
   "id": "814c8be1",
   "metadata": {},
   "outputs": [],
   "source": []
  }
 ],
 "metadata": {
  "kernelspec": {
   "display_name": "Python 3 (ipykernel)",
   "language": "python",
   "name": "python3"
  },
  "language_info": {
   "codemirror_mode": {
    "name": "ipython",
    "version": 3
   },
   "file_extension": ".py",
   "mimetype": "text/x-python",
   "name": "python",
   "nbconvert_exporter": "python",
   "pygments_lexer": "ipython3",
   "version": "3.9.13"
  }
 },
 "nbformat": 4,
 "nbformat_minor": 5
}
