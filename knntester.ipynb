{
 "cells": [
  {
   "cell_type": "code",
   "execution_count": 101,
   "id": "af5c5032",
   "metadata": {},
   "outputs": [],
   "source": [
    "import pandas as pd\n",
    "import numpy as np\n",
    "from sklearn.model_selection import train_test_split\n",
    "from sklearn.neighbors import KNeighborsClassifier"
   ]
  },
  {
   "cell_type": "code",
   "execution_count": 102,
   "id": "08d62a27",
   "metadata": {},
   "outputs": [],
   "source": [
    "#data = pd.read_csv(\"bbp_shuffled.csv\")\n",
    "data = pd.read_csv(\"bbp_symptoms.csv\")"
   ]
  },
  {
   "cell_type": "code",
   "execution_count": 103,
   "id": "bb74df40",
   "metadata": {},
   "outputs": [],
   "source": [
    "knn = KNeighborsClassifier(n_neighbors= 15)"
   ]
  },
  {
   "cell_type": "code",
   "execution_count": 104,
   "id": "e9adebb5",
   "metadata": {},
   "outputs": [],
   "source": [
    "X = data.drop('Pathogen',axis=1).values\n",
    "y= data['Pathogen'].values"
   ]
  },
  {
   "cell_type": "code",
   "execution_count": 105,
   "id": "bf90695e",
   "metadata": {},
   "outputs": [],
   "source": [
    "X_train, X_test, y_train, y_test = train_test_split(X,y,test_size =0.2, random_state = 21, stratify = y)"
   ]
  },
  {
   "cell_type": "code",
   "execution_count": 106,
   "id": "e41d140e",
   "metadata": {},
   "outputs": [],
   "source": [
    "knn.fit(X_train, y_train)\n",
    "y_pred = knn.predict(X_test)"
   ]
  },
  {
   "cell_type": "code",
   "execution_count": 107,
   "id": "6f5e4e7f",
   "metadata": {},
   "outputs": [
    {
     "data": {
      "text/plain": [
       "0.5799418604651163"
      ]
     },
     "execution_count": 107,
     "metadata": {},
     "output_type": "execute_result"
    }
   ],
   "source": [
    "knn.score(X_test, y_test)"
   ]
  },
  {
   "cell_type": "code",
   "execution_count": 108,
   "id": "e9b77495",
   "metadata": {},
   "outputs": [
    {
     "name": "stdout",
     "output_type": "stream",
     "text": [
      "57.99418604651163\n"
     ]
    }
   ],
   "source": [
    "print( knn.score(X_test, y_test)*100)"
   ]
  },
  {
   "cell_type": "code",
   "execution_count": null,
   "id": "a34e0232",
   "metadata": {},
   "outputs": [],
   "source": []
  }
 ],
 "metadata": {
  "kernelspec": {
   "display_name": "Python 3 (ipykernel)",
   "language": "python",
   "name": "python3"
  },
  "language_info": {
   "codemirror_mode": {
    "name": "ipython",
    "version": 3
   },
   "file_extension": ".py",
   "mimetype": "text/x-python",
   "name": "python",
   "nbconvert_exporter": "python",
   "pygments_lexer": "ipython3",
   "version": "3.10.5"
  }
 },
 "nbformat": 4,
 "nbformat_minor": 5
}
