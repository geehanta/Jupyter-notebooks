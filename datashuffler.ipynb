{
 "cells": [
  {
   "cell_type": "code",
   "execution_count": 6,
   "id": "0d5c8946",
   "metadata": {},
   "outputs": [],
   "source": [
    "import pandas as pd\n",
    "import numpy as np"
   ]
  },
  {
   "cell_type": "code",
   "execution_count": 7,
   "id": "e407c62a",
   "metadata": {},
   "outputs": [],
   "source": [
    "data = pd.read_csv(\"bbpsyms3.csv\")"
   ]
  },
  {
   "cell_type": "code",
   "execution_count": 8,
   "id": "1176155b",
   "metadata": {
    "scrolled": true
   },
   "outputs": [],
   "source": [
    "#shuffling my bbp symptoms data since its in orderly rows\n",
    "bbp_shuffled = data.sample(frac=1, random_state=42)"
   ]
  },
  {
   "cell_type": "code",
   "execution_count": 9,
   "id": "3ab77d89",
   "metadata": {},
   "outputs": [],
   "source": [
    "# Export shuffled data to CSV\n",
    "bbp_shuffled.to_csv('bbpsyms3shuffled.csv', index=False)"
   ]
  },
  {
   "cell_type": "code",
   "execution_count": 10,
   "id": "a13f7784",
   "metadata": {},
   "outputs": [
    {
     "name": "stdout",
     "output_type": "stream",
     "text": [
      "       Chills  Cough  Difficulty_breathing  Sputum_production  Sore_throat  \\\n",
      "2574        0      0                     0                  0            0   \n",
      "7496        0      0                     0                  0            1   \n",
      "9210        1      1                     0                  0            1   \n",
      "5456        1      1                     0                  0            0   \n",
      "736         1      0                     0                  0            1   \n",
      "11770       0      1                     0                  0            1   \n",
      "856         1      1                     0                  0            0   \n",
      "7273        1      1                     0                  0            0   \n",
      "11499       0      0                     0                  0            0   \n",
      "11605       1      1                     0                  0            0   \n",
      "\n",
      "       Headache  Runny_nose  Eye_pain  Seizures  Tick_bites  ...  Diarrhoea  \\\n",
      "2574          0           0         1         0           0  ...          1   \n",
      "7496          1           0         0         0           0  ...          0   \n",
      "9210          1           0         0         0           0  ...          1   \n",
      "5456          0           1         0         0           0  ...          0   \n",
      "736           1           1         0         0           0  ...          0   \n",
      "11770         0           1         0         0           0  ...          0   \n",
      "856           1           0         0         0           0  ...          1   \n",
      "7273          0           0         0         0           0  ...          0   \n",
      "11499         0           1         0         0           0  ...          0   \n",
      "11605         0           0         0         0           0  ...          0   \n",
      "\n",
      "       Blood_in_stool  Bleeding  Bruising  Rash  Joint_aches  Muscle_aches  \\\n",
      "2574                0         0         0     0            0             0   \n",
      "7496                0         0         0     0            0             0   \n",
      "9210                0         0         0     0            0             0   \n",
      "5456                0         0         0     0            1             0   \n",
      "736                 0         0         0     0            0             1   \n",
      "11770               0         0         0     0            0             1   \n",
      "856                 0         0         0     0            0             0   \n",
      "7273                0         0         0     0            0             0   \n",
      "11499               0         0         0     0            1             0   \n",
      "11605               0         0         0     0            0             1   \n",
      "\n",
      "       Dark_urine  Jaundice           Pathogen  \n",
      "2574            0         0  A-phagocytophilum  \n",
      "7496            0         0         Leishmania  \n",
      "9210            0         0         Leptospira  \n",
      "5456            0         0            Malaria  \n",
      "736             0         0       B-burgdoferi  \n",
      "11770           0         0         Salmonella  \n",
      "856             0         0       B-burgdoferi  \n",
      "7273            0         0         Leishmania  \n",
      "11499           0         0         Salmonella  \n",
      "11605           0         0         Salmonella  \n",
      "\n",
      "[10 rows x 22 columns]\n"
     ]
    }
   ],
   "source": [
    "#Show first few rows of data\n",
    "print(bbp_shuffled.head(10))"
   ]
  },
  {
   "cell_type": "code",
   "execution_count": 11,
   "id": "64299517",
   "metadata": {},
   "outputs": [],
   "source": [
    "pd.set_option('display.max_columns', None)"
   ]
  },
  {
   "cell_type": "code",
   "execution_count": 12,
   "id": "ed371a87",
   "metadata": {},
   "outputs": [
    {
     "name": "stdout",
     "output_type": "stream",
     "text": [
      "       Chills  Cough  Difficulty_breathing  Sputum_production  Sore_throat  \\\n",
      "2574        0      0                     0                  0            0   \n",
      "7496        0      0                     0                  0            1   \n",
      "9210        1      1                     0                  0            1   \n",
      "5456        1      1                     0                  0            0   \n",
      "736         1      0                     0                  0            1   \n",
      "...       ...    ...                   ...                ...          ...   \n",
      "11284       0      1                     0                  0            1   \n",
      "11964       1      0                     0                  0            0   \n",
      "5390        0      0                     0                  0            0   \n",
      "860         0      1                     0                  0            0   \n",
      "15795       1      0                     0                  0            0   \n",
      "\n",
      "       Headache  Runny_nose  Eye_pain  Seizures  Tick_bites  Abdominal_pain  \\\n",
      "2574          0           0         1         0           0               1   \n",
      "7496          1           0         0         0           0               1   \n",
      "9210          1           0         0         0           0               0   \n",
      "5456          0           1         0         0           0               0   \n",
      "736           1           1         0         0           0               0   \n",
      "...         ...         ...       ...       ...         ...             ...   \n",
      "11284         1           1         0         0           0               0   \n",
      "11964         0           0         0         0           1               0   \n",
      "5390          0           0         0         0           0               0   \n",
      "860           1           1         0         1           0               0   \n",
      "15795         1           1         0         1           0               0   \n",
      "\n",
      "       Vomiting  Diarrhoea  Blood_in_stool  Bleeding  Bruising  Rash  \\\n",
      "2574          0          1               0         0         0     0   \n",
      "7496          0          0               0         0         0     0   \n",
      "9210          0          1               0         0         0     0   \n",
      "5456          1          0               0         0         0     0   \n",
      "736           0          0               0         0         0     0   \n",
      "...         ...        ...             ...       ...       ...   ...   \n",
      "11284         0          0               0         0         0     0   \n",
      "11964         0          0               0         0         0     0   \n",
      "5390          1          0               0         0         0     0   \n",
      "860           1          0               0         0         0     0   \n",
      "15795         0          1               0         0         0     0   \n",
      "\n",
      "       Joint_aches  Muscle_aches  Dark_urine  Jaundice           Pathogen  \n",
      "2574             0             0           0         0  A-phagocytophilum  \n",
      "7496             0             0           0         0         Leishmania  \n",
      "9210             0             0           0         0         Leptospira  \n",
      "5456             1             0           0         0            Malaria  \n",
      "736              0             1           0         0       B-burgdoferi  \n",
      "...            ...           ...         ...       ...                ...  \n",
      "11284            0             1           0         0         Salmonella  \n",
      "11964            0             0           0         0         Salmonella  \n",
      "5390             1             0           0         0            Malaria  \n",
      "860              0             0           0         0       B-burgdoferi  \n",
      "15795            0             0           0         0         Rickettsia  \n",
      "\n",
      "[18000 rows x 22 columns]\n"
     ]
    }
   ],
   "source": [
    "print(bbp_shuffled)"
   ]
  },
  {
   "cell_type": "code",
   "execution_count": 13,
   "id": "5e2ab759",
   "metadata": {},
   "outputs": [],
   "source": [
    "X = bbp_shuffled.drop('Pathogen',axis=1).values"
   ]
  },
  {
   "cell_type": "code",
   "execution_count": 14,
   "id": "7b836137",
   "metadata": {},
   "outputs": [],
   "source": [
    "y = bbp_shuffled['Pathogen'].values\n"
   ]
  },
  {
   "cell_type": "code",
   "execution_count": 15,
   "id": "bf8e7e2a",
   "metadata": {},
   "outputs": [
    {
     "data": {
      "text/plain": [
       "(18000, 21)"
      ]
     },
     "execution_count": 15,
     "metadata": {},
     "output_type": "execute_result"
    }
   ],
   "source": [
    "X.shape"
   ]
  },
  {
   "cell_type": "code",
   "execution_count": 16,
   "id": "4e74b7d3",
   "metadata": {},
   "outputs": [
    {
     "data": {
      "text/plain": [
       "(18000,)"
      ]
     },
     "execution_count": 16,
     "metadata": {},
     "output_type": "execute_result"
    }
   ],
   "source": [
    "y.shape"
   ]
  },
  {
   "cell_type": "code",
   "execution_count": 17,
   "id": "bb80981c",
   "metadata": {},
   "outputs": [
    {
     "ename": "ImportError",
     "evalue": "cannot import name 'kNeighborsClassifier' from 'sklearn.neighbors' (c:\\Users\\BSL-USAMRUK\\AppData\\Local\\Programs\\Python\\Python310\\lib\\site-packages\\sklearn\\neighbors\\__init__.py)",
     "output_type": "error",
     "traceback": [
      "\u001b[1;31m---------------------------------------------------------------------------\u001b[0m",
      "\u001b[1;31mImportError\u001b[0m                               Traceback (most recent call last)",
      "\u001b[1;32mc:\\WebApps\\Jupyter-notebooks\\datashuffler.ipynb Cell 12\u001b[0m line \u001b[0;36m1\n\u001b[1;32m----> <a href='vscode-notebook-cell:/c%3A/WebApps/Jupyter-notebooks/datashuffler.ipynb#X14sZmlsZQ%3D%3D?line=0'>1</a>\u001b[0m \u001b[39mfrom\u001b[39;00m \u001b[39msklearn\u001b[39;00m\u001b[39m.\u001b[39;00m\u001b[39mneighbors\u001b[39;00m \u001b[39mimport\u001b[39;00m kNeighborsClassifier\n",
      "\u001b[1;31mImportError\u001b[0m: cannot import name 'kNeighborsClassifier' from 'sklearn.neighbors' (c:\\Users\\BSL-USAMRUK\\AppData\\Local\\Programs\\Python\\Python310\\lib\\site-packages\\sklearn\\neighbors\\__init__.py)"
     ]
    }
   ],
   "source": [
    "from sklearn.neighbors import kNeighborsClassifier"
   ]
  },
  {
   "cell_type": "code",
   "execution_count": null,
   "id": "814c8be1",
   "metadata": {},
   "outputs": [],
   "source": []
  }
 ],
 "metadata": {
  "kernelspec": {
   "display_name": "Python 3 (ipykernel)",
   "language": "python",
   "name": "python3"
  },
  "language_info": {
   "codemirror_mode": {
    "name": "ipython",
    "version": 3
   },
   "file_extension": ".py",
   "mimetype": "text/x-python",
   "name": "python",
   "nbconvert_exporter": "python",
   "pygments_lexer": "ipython3",
   "version": "3.10.5"
  }
 },
 "nbformat": 4,
 "nbformat_minor": 5
}
