{
 "cells": [
  {
   "cell_type": "code",
   "execution_count": 1,
   "metadata": {},
   "outputs": [],
   "source": [
    "import pandas as pd\n",
    "import numpy as np\n",
    "from sklearn.model_selection import train_test_split\n",
    "from sklearn.svm import SVC"
   ]
  },
  {
   "cell_type": "code",
   "execution_count": 5,
   "metadata": {},
   "outputs": [
    {
     "name": "stdout",
     "output_type": "stream",
     "text": [
      "57.63081395348837\n"
     ]
    }
   ],
   "source": [
    "#data = pd.read_csv(\"bbp_shuffled.csv\")\n",
    "data = pd.read_csv(\"bbp_symptoms.csv\")\n",
    "Svm_classifier = SVC(kernel='linear',random_state=42)\n",
    "X = data.drop('Pathogen',axis=1).values\n",
    "y= data['Pathogen'].values\n",
    "X_train, X_test, y_train, y_test = train_test_split(X,y,test_size =0.2, random_state = 21, stratify = y)\n",
    "Svm_classifier.fit(X_train, y_train)\n",
    "y_pred = Svm_classifier.predict(X_test)\n",
    "Svm_classifier.score(X_test, y_test)\n",
    "print( Svm_classifier.score(X_test, y_test)*100)"
   ]
  },
  {
   "cell_type": "code",
   "execution_count": null,
   "metadata": {},
   "outputs": [],
   "source": []
  }
 ],
 "metadata": {
  "kernelspec": {
   "display_name": "Python 3",
   "language": "python",
   "name": "python3"
  },
  "language_info": {
   "codemirror_mode": {
    "name": "ipython",
    "version": 3
   },
   "file_extension": ".py",
   "mimetype": "text/x-python",
   "name": "python",
   "nbconvert_exporter": "python",
   "pygments_lexer": "ipython3",
   "version": "3.10.5"
  },
  "orig_nbformat": 4
 },
 "nbformat": 4,
 "nbformat_minor": 2
}
