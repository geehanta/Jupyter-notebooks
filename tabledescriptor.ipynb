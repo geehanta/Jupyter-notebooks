{
 "cells": [
  {
   "cell_type": "code",
   "execution_count": 1,
   "metadata": {},
   "outputs": [],
   "source": [
    "import pandas as pd\n",
    "import numpy as np"
   ]
  },
  {
   "cell_type": "code",
   "execution_count": 2,
   "metadata": {},
   "outputs": [],
   "source": [
    "table = pd.read_csv('bbpsyms3.csv')"
   ]
  },
  {
   "cell_type": "code",
   "execution_count": 5,
   "metadata": {},
   "outputs": [
    {
     "name": "stdout",
     "output_type": "stream",
     "text": [
      "       Chills  Cough  Difficulty_breathing  Sputum_production  Sore_throat  \\\n",
      "0           1      0                     0                  0            0   \n",
      "1           1      1                     0                  0            0   \n",
      "2           0      1                     0                  0            0   \n",
      "3           1      0                     0                  0            0   \n",
      "4           1      0                     0                  0            0   \n",
      "...       ...    ...                   ...                ...          ...   \n",
      "17995       1      0                     0                  0            0   \n",
      "17996       0      0                     0                  0            1   \n",
      "17997       1      0                     0                  0            0   \n",
      "17998       1      1                     0                  0            0   \n",
      "17999       1      0                     0                  0            0   \n",
      "\n",
      "       Headache  Runny_nose  Eye_pain  Seizures  Tick_bites  ...  Diarrhoea  \\\n",
      "0             1           0         1         0           0  ...          0   \n",
      "1             0           0         0         0           0  ...          0   \n",
      "2             1           0         0         0           0  ...          0   \n",
      "3             0           1         0         0           0  ...          0   \n",
      "4             1           1         0         0           0  ...          0   \n",
      "...         ...         ...       ...       ...         ...  ...        ...   \n",
      "17995         1           1         1         0           0  ...          0   \n",
      "17996         1           0         1         0           0  ...          0   \n",
      "17997         1           0         1         0           0  ...          0   \n",
      "17998         1           1         1         0           0  ...          0   \n",
      "17999         1           1         0         0           0  ...          0   \n",
      "\n",
      "       Blood_in_stool  Bleeding  Bruising  Rash  Joint_aches  Muscle_aches  \\\n",
      "0                   0         0         0     0            0             1   \n",
      "1                   0         0         0     0            0             0   \n",
      "2                   0         0         0     0            1             1   \n",
      "3                   0         0         0     0            1             0   \n",
      "4                   0         0         0     0            1             0   \n",
      "...               ...       ...       ...   ...          ...           ...   \n",
      "17995               0         0         0     0            0             0   \n",
      "17996               0         0         0     0            1             1   \n",
      "17997               0         0         0     0            0             1   \n",
      "17998               0         0         0     0            1             0   \n",
      "17999               0         0         0     0            1             1   \n",
      "\n",
      "       Dark_urine  Jaundice      Pathogen  \n",
      "0               0         0  B-burgdoferi  \n",
      "1               0         0  B-burgdoferi  \n",
      "2               0         0  B-burgdoferi  \n",
      "3               0         0  B-burgdoferi  \n",
      "4               0         0  B-burgdoferi  \n",
      "...           ...       ...           ...  \n",
      "17995           0         0        Dengue  \n",
      "17996           0         0        Dengue  \n",
      "17997           0         0        Dengue  \n",
      "17998           0         0        Dengue  \n",
      "17999           0         0        Dengue  \n",
      "\n",
      "[18000 rows x 22 columns]\n"
     ]
    }
   ],
   "source": [
    "print(table)"
   ]
  },
  {
   "cell_type": "code",
   "execution_count": 6,
   "metadata": {},
   "outputs": [
    {
     "name": "stdout",
     "output_type": "stream",
     "text": [
      "   Chills  Cough  Difficulty_breathing  Sputum_production  Sore_throat  \\\n",
      "0       1      0                     0                  0            0   \n",
      "1       1      1                     0                  0            0   \n",
      "2       0      1                     0                  0            0   \n",
      "3       1      0                     0                  0            0   \n",
      "4       1      0                     0                  0            0   \n",
      "5       0      0                     0                  0            0   \n",
      "6       0      0                     0                  0            0   \n",
      "7       1      0                     0                  0            0   \n",
      "8       0      0                     0                  0            0   \n",
      "9       1      1                     0                  0            0   \n",
      "\n",
      "   Headache  Runny_nose  Eye_pain  Seizures  Tick_bites  ...  Diarrhoea  \\\n",
      "0         1           0         1         0           0  ...          0   \n",
      "1         0           0         0         0           0  ...          0   \n",
      "2         1           0         0         0           0  ...          0   \n",
      "3         0           1         0         0           0  ...          0   \n",
      "4         1           1         0         0           0  ...          0   \n",
      "5         0           0         0         0           0  ...          0   \n",
      "6         1           0         0         0           0  ...          0   \n",
      "7         0           0         1         0           0  ...          0   \n",
      "8         1           0         0         0           0  ...          0   \n",
      "9         0           1         1         0           0  ...          0   \n",
      "\n",
      "   Blood_in_stool  Bleeding  Bruising  Rash  Joint_aches  Muscle_aches  \\\n",
      "0               0         0         0     0            0             1   \n",
      "1               0         0         0     0            0             0   \n",
      "2               0         0         0     0            1             1   \n",
      "3               0         0         0     0            1             0   \n",
      "4               0         0         0     0            1             0   \n",
      "5               0         0         0     0            1             0   \n",
      "6               0         0         0     0            0             0   \n",
      "7               0         0         0     0            1             0   \n",
      "8               0         1         0     0            0             0   \n",
      "9               0         0         0     0            0             0   \n",
      "\n",
      "   Dark_urine  Jaundice      Pathogen  \n",
      "0           0         0  B-burgdoferi  \n",
      "1           0         0  B-burgdoferi  \n",
      "2           0         0  B-burgdoferi  \n",
      "3           0         0  B-burgdoferi  \n",
      "4           0         0  B-burgdoferi  \n",
      "5           0         0  B-burgdoferi  \n",
      "6           0         0  B-burgdoferi  \n",
      "7           0         0  B-burgdoferi  \n",
      "8           0         0  B-burgdoferi  \n",
      "9           1         0  B-burgdoferi  \n",
      "\n",
      "[10 rows x 22 columns]\n"
     ]
    }
   ],
   "source": [
    "print(table.head(10))"
   ]
  },
  {
   "cell_type": "code",
   "execution_count": 10,
   "metadata": {},
   "outputs": [],
   "source": [
    "headers = table.columns.to_list()"
   ]
  },
  {
   "cell_type": "code",
   "execution_count": 8,
   "metadata": {},
   "outputs": [
    {
     "name": "stdout",
     "output_type": "stream",
     "text": [
      "['Chills', 'Cough', 'Difficulty_breathing', 'Sputum_production', 'Sore_throat', 'Headache', 'Runny_nose', 'Eye_pain', 'Seizures', 'Tick_bites', 'Abdominal_pain', 'Vomiting', 'Diarrhoea', 'Blood_in_stool', 'Bleeding', 'Bruising', 'Rash', 'Joint_aches', 'Muscle_aches', 'Dark_urine', 'Jaundice', 'Pathogen']\n"
     ]
    }
   ],
   "source": [
    "print(headers)"
   ]
  },
  {
   "cell_type": "code",
   "execution_count": null,
   "metadata": {},
   "outputs": [],
   "source": []
  }
 ],
 "metadata": {
  "kernelspec": {
   "display_name": "Python 3",
   "language": "python",
   "name": "python3"
  },
  "language_info": {
   "codemirror_mode": {
    "name": "ipython",
    "version": 3
   },
   "file_extension": ".py",
   "mimetype": "text/x-python",
   "name": "python",
   "nbconvert_exporter": "python",
   "pygments_lexer": "ipython3",
   "version": "3.10.5"
  }
 },
 "nbformat": 4,
 "nbformat_minor": 2
}
