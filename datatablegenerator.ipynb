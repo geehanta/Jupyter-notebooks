{
 "cells": [
  {
   "cell_type": "code",
   "execution_count": 41,
   "metadata": {},
   "outputs": [],
   "source": [
    "import pandas as pd\n",
    "import numpy as np\n"
   ]
  },
  {
   "cell_type": "code",
   "execution_count": 42,
   "metadata": {},
   "outputs": [],
   "source": [
    "### Define symptoms and their percentages for Malaria\n",
    "symptoms = {\n",
    "    'Chills': 73,\n",
    "    'Cough': 55,\n",
    "    'Difficulty_breathing': 8,\n",
    "    'Sputum_production': 8,\n",
    "    'Sore_throat': 36,\n",
    "    'Headache': 78,\n",
    "    'Runny_nose': 48,\n",
    "    'Eye_pain': 33,\n",
    "    'Seizures': 0,\n",
    "    'Tick_bites': 0,\n",
    "    'Abdominal_pain': 29,\n",
    "    'Vomiting': 16,\n",
    "    'Diarrhoea': 9,\n",
    "    'Rash': 1,\n",
    "    'Joint_aches': 68,\n",
    "    'Muscle_aches': 65,\n",
    "    'Dark_urine': 7\n",
    "}"
   ]
  },
  {
   "cell_type": "code",
   "execution_count": 43,
   "metadata": {},
   "outputs": [],
   "source": [
    "# Number of records\n",
    "num_records = 2000\n",
    "\n",
    "# Generate the table\n",
    "data = {}\n",
    "for symptom, percentage in symptoms.items():\n",
    "    # Convert percentage to probability\n",
    "    probability = percentage / 100.0\n",
    "    # Generate random binary values based on the probability\n",
    "    data[symptom] = np.random.choice([0, 1], num_records, p=[1 - probability, probability])\n",
    "\n",
    "# Create a DataFrame\n",
    "df = pd.DataFrame(data)\n",
    "#print(df.head(10))\n",
    "\n"
   ]
  },
  {
   "cell_type": "code",
   "execution_count": 44,
   "metadata": {},
   "outputs": [
    {
     "name": "stdout",
     "output_type": "stream",
     "text": [
      "Table exported to sarscov2symptoms.xlsx\n"
     ]
    }
   ],
   "source": [
    "# Export the table to Excel\n",
    "excel_filename = 'sarscov2symptoms.xlsx'\n",
    "df.to_excel(excel_filename, index=False)\n",
    "\n",
    "print(f'Table exported to {excel_filename}')"
   ]
  }
 ],
 "metadata": {
  "kernelspec": {
   "display_name": "Python 3",
   "language": "python",
   "name": "python3"
  },
  "language_info": {
   "codemirror_mode": {
    "name": "ipython",
    "version": 3
   },
   "file_extension": ".py",
   "mimetype": "text/x-python",
   "name": "python",
   "nbconvert_exporter": "python",
   "pygments_lexer": "ipython3",
   "version": "3.10.5"
  }
 },
 "nbformat": 4,
 "nbformat_minor": 2
}
