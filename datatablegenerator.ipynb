{
 "cells": [
  {
   "cell_type": "code",
   "execution_count": 41,
   "metadata": {},
   "outputs": [],
   "source": [
    "import pandas as pd\n",
    "import numpy as np\n"
   ]
  },
  {
   "cell_type": "code",
   "execution_count": 42,
   "metadata": {},
   "outputs": [],
   "source": [
    "### Define symptoms and their percentages for Malaria\n",
    "symptoms = {\n",
    "    'Chills': 71.4,\n",
    "    'Cough': 29.0,\n",
    "    'Difficulty_breathing': 1.5,\n",
    "    'Sputum_production': 4.2,\n",
    "    'Sore_throat': 19.4,\n",
    "    'Headache': 81.4,\n",
    "    'Runny_nose': 36.5,\n",
    "    'Eye_pain': 50.1,\n",
    "    'Seizures': 1.0,\n",
    "    'Tick_bites': 0.8,\n",
    "    'Abdominal_pain': 37.2,\n",
    "    'Vomiting': 24.4,\n",
    "    'Diarrhoea': 9.8,\n",
    "    'Blood_in_stool': 0.4,\n",
    "    'Bleeding': 0.4,\n",
    "    'Bruising': 0.0,\n",
    "    'Rash': 3.1,\n",
    "    'Joint_aches': 69.7,\n",
    "    'Muscle_aches': 66.0,\n",
    "    'Dark_urine': 5.2,\n",
    "    'Jaundice': 0.4\n",
    "}"
   ]
  },
  {
   "cell_type": "code",
   "execution_count": 43,
   "metadata": {},
   "outputs": [],
   "source": [
    "# Number of records\n",
    "num_records = 2000\n",
    "\n",
    "# Generate the table\n",
    "data = {}\n",
    "for symptom, percentage in symptoms.items():\n",
    "    # Convert percentage to probability\n",
    "    probability = percentage / 100.0\n",
    "    # Generate random binary values based on the probability\n",
    "    data[symptom] = np.random.choice([0, 1], num_records, p=[1 - probability, probability])\n",
    "\n",
    "# Create a DataFrame\n",
    "df = pd.DataFrame(data)\n",
    "#print(df.head(10))\n",
    "\n"
   ]
  },
  {
   "cell_type": "code",
   "execution_count": 44,
   "metadata": {},
   "outputs": [
    {
     "name": "stdout",
     "output_type": "stream",
     "text": [
      "Table exported to denguesymptoms3.xlsx\n"
     ]
    }
   ],
   "source": [
    "# Export the table to Excel\n",
    "excel_filename = 'denguesymptoms3.xlsx'\n",
    "df.to_excel(excel_filename, index=False)\n",
    "\n",
    "print(f'Table exported to {excel_filename}')"
   ]
  }
 ],
 "metadata": {
  "kernelspec": {
   "display_name": "Python 3",
   "language": "python",
   "name": "python3"
  },
  "language_info": {
   "codemirror_mode": {
    "name": "ipython",
    "version": 3
   },
   "file_extension": ".py",
   "mimetype": "text/x-python",
   "name": "python",
   "nbconvert_exporter": "python",
   "pygments_lexer": "ipython3",
   "version": "3.10.5"
  }
 },
 "nbformat": 4,
 "nbformat_minor": 2
}
